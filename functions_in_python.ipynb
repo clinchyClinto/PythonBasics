{
 "cells": [
  {
   "cell_type": "code",
   "execution_count": 2,
   "id": "4f557339",
   "metadata": {},
   "outputs": [
    {
     "name": "stdout",
     "output_type": "stream",
     "text": [
      "clinton is greeting you, hallo!!\n"
     ]
    }
   ],
   "source": [
    "#   Introdution to python funtions\n",
    "# define  the funtion\n",
    "def hallo():\n",
    "    print(\"clinton is greeting you, hallo!!\")\n",
    "    \n",
    "# calling funtions \n",
    "hallo()"
   ]
  },
  {
   "cell_type": "code",
   "execution_count": 4,
   "id": "28c58d29",
   "metadata": {},
   "outputs": [
    {
     "name": "stdout",
     "output_type": "stream",
     "text": [
      "Clinton karanja says hallo there!\n"
     ]
    }
   ],
   "source": [
    "# adding arguments in futions \n",
    "\n",
    "def argument_function(Name, L_name): #Name, L_name are parameters \n",
    "    print(f\"{Name} {L_name} says hallo there!\")\n",
    "    \n",
    "argument_function(\"Clinton\", \"karanja\")# Clinton , Karanja - this are now the argments "
   ]
  },
  {
   "cell_type": "code",
   "execution_count": 6,
   "id": "00a25bcc",
   "metadata": {},
   "outputs": [
    {
     "data": {
      "text/plain": [
       "'clinton is greeting you'"
      ]
     },
     "execution_count": 6,
     "metadata": {},
     "output_type": "execute_result"
    }
   ],
   "source": [
    "#  using  return keyword in funtions\n",
    "def Return_keyword(name):\n",
    "    return f\"{name} is greeting you\"\n",
    "\n",
    "Return_keyword(\"clinton\")\n",
    "\n"
   ]
  },
  {
   "cell_type": "code",
   "execution_count": 8,
   "id": "59f6cdd5",
   "metadata": {},
   "outputs": [
    {
     "data": {
      "text/plain": [
       "81"
      ]
     },
     "execution_count": 8,
     "metadata": {},
     "output_type": "execute_result"
    }
   ],
   "source": [
    "# default arguments \n",
    "def default(num, number = 9): # number = 9 is a default argument\n",
    "       \n",
    "        return num * number\n",
    "    \n",
    "default(9)"
   ]
  },
  {
   "cell_type": "code",
   "execution_count": 11,
   "id": "d2f47b28",
   "metadata": {},
   "outputs": [
    {
     "name": "stdout",
     "output_type": "stream",
     "text": [
      "70\n"
     ]
    }
   ],
   "source": [
    "# keyword argument\n",
    "\n",
    "def keyWord(num, numbers):\n",
    "    return numbers + num\n",
    "print(keyWord(35,numbers =35))# positional arguments follows keyword arguments"
   ]
  },
  {
   "cell_type": "code",
   "execution_count": 12,
   "id": "b664bfad",
   "metadata": {},
   "outputs": [
    {
     "name": "stdout",
     "output_type": "stream",
     "text": [
      "{'id': 1, 'name': 'clinton', 'age': 22}\n",
      "clinton\n"
     ]
    }
   ],
   "source": [
    "# dictaionary and funtions\n",
    "\n",
    "def dictionary(**user):\n",
    "    print(user)\n",
    "    print(user['name'])\n",
    "    \n",
    "dictionary(id = 1, name =\"clinton\", age = 22 )\n",
    "               "
   ]
  },
  {
   "cell_type": "code",
   "execution_count": 19,
   "id": "2f7462c6",
   "metadata": {},
   "outputs": [
    {
     "name": "stdout",
     "output_type": "stream",
     "text": [
      "b\n"
     ]
    }
   ],
   "source": [
    "# global fuctions\n",
    "\n",
    "message = \"a\"\n",
    "def global_fun(name):\n",
    "    global message\n",
    "    message = \"b\"\n",
    "    return message\n",
    "    \n",
    "global_fun(\"clinton\")\n",
    "print(message)\n",
    "\n",
    "    "
   ]
  },
  {
   "cell_type": "code",
   "execution_count": 20,
   "id": "251ec6e8",
   "metadata": {},
   "outputs": [],
   "source": [
    "# quiz  fizz_buzz\n",
    "# if the number is divisible by three then return fizz\n",
    "# if divisible by five then return bizz\n",
    "# if divisible by both return fizz_buzz\n",
    "# else return the number."
   ]
  },
  {
   "cell_type": "code",
   "execution_count": 39,
   "id": "b36d6a6d",
   "metadata": {},
   "outputs": [
    {
     "data": {
      "text/plain": [
       "'Fizz_Buzz'"
      ]
     },
     "execution_count": 39,
     "metadata": {},
     "output_type": "execute_result"
    }
   ],
   "source": [
    "# Solution \n",
    "\n",
    "def Quiz(input):\n",
    "    if (input % 3 ==0) and (input % 5 == 0):\n",
    "        return \"Fizz_Buzz\"\n",
    "    if input % 3 == 0:\n",
    "        return \"Fizz\"\n",
    "    if input % 5 == 0:\n",
    "        return \"Buzz\"\n",
    "    else:\n",
    "        return input\n",
    "Quiz(150)"
   ]
  },
  {
   "cell_type": "code",
   "execution_count": null,
   "id": "c164c1ce",
   "metadata": {},
   "outputs": [],
   "source": []
  },
  {
   "cell_type": "code",
   "execution_count": null,
   "id": "60b30f64",
   "metadata": {},
   "outputs": [],
   "source": []
  }
 ],
 "metadata": {
  "kernelspec": {
   "display_name": "Python 3 (ipykernel)",
   "language": "python",
   "name": "python3"
  },
  "language_info": {
   "codemirror_mode": {
    "name": "ipython",
    "version": 3
   },
   "file_extension": ".py",
   "mimetype": "text/x-python",
   "name": "python",
   "nbconvert_exporter": "python",
   "pygments_lexer": "ipython3",
   "version": "3.10.9"
  }
 },
 "nbformat": 4,
 "nbformat_minor": 5
}
