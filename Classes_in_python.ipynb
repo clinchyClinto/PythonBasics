{
 "cells": [
  {
   "cell_type": "code",
   "execution_count": 6,
   "id": "9608c9bb",
   "metadata": {},
   "outputs": [
    {
     "name": "stdout",
     "output_type": "stream",
     "text": [
      "5\n"
     ]
    }
   ],
   "source": [
    "# introdution to python classes\n",
    "\n",
    "class first:\n",
    "    x= 5\n",
    "p1 = first()\n",
    "print(p1.x)"
   ]
  },
  {
   "cell_type": "code",
   "execution_count": 13,
   "id": "ed5fb8ef",
   "metadata": {},
   "outputs": [
    {
     "name": "stdout",
     "output_type": "stream",
     "text": [
      "i5 16gb  ram, 1tb\n"
     ]
    }
   ],
   "source": [
    "\n",
    "class computer:\n",
    "    def config(self):\n",
    "        print(\"i5 16gb  ram, 1tb\")\n",
    "\n",
    "comp  = computer()\n",
    "computer.config(comp)"
   ]
  },
  {
   "cell_type": "code",
   "execution_count": 20,
   "id": "2953ba1e",
   "metadata": {},
   "outputs": [
    {
     "name": "stdout",
     "output_type": "stream",
     "text": [
      "Clinton\n",
      "36\n"
     ]
    }
   ],
   "source": [
    "# using __init__ funtion\n",
    "class Person:\n",
    "    def __init__(self, name, age):\n",
    "        self.name = name\n",
    "        self.age = age\n",
    "p1 =  Person(\"Clinton\", 36)\n",
    "print(p1.name)\n",
    "print(p1.age)"
   ]
  },
  {
   "cell_type": "code",
   "execution_count": 25,
   "id": "1fbafe76",
   "metadata": {},
   "outputs": [
    {
     "name": "stdout",
     "output_type": "stream",
     "text": [
      "clinton 36\n"
     ]
    }
   ],
   "source": [
    "# adding __str__ funtion in a class\n",
    "\n",
    "\n",
    "class Persons:\n",
    "    def __init__(self, name, age):\n",
    "        self.name = name\n",
    "        self.age = age \n",
    "    def __str__(self):\n",
    "        return f\"{self.name} {self.age}\"\n",
    "    \n",
    "p1 = Persons(\"clinton\", 36)\n",
    "print(p1)\n"
   ]
  },
  {
   "cell_type": "code",
   "execution_count": 26,
   "id": "cd6b26d0",
   "metadata": {},
   "outputs": [
    {
     "name": "stdout",
     "output_type": "stream",
     "text": [
      "Hello my name is Clinton and i am 36 years of old.\n"
     ]
    }
   ],
   "source": [
    "# Object Methods \n",
    "class persons:\n",
    "    def __init__(self, name, age):\n",
    "        self.age = age\n",
    "        self.name = name\n",
    "        \n",
    "        \n",
    "    def Myfunc(self):\n",
    "        print(f\"Hello my name is {self.name} and i am {self.age} years of old.\")\n",
    "        \n",
    "perso = persons(\"Clinton\", 36)\n",
    "perso.Myfunc()"
   ]
  },
  {
   "cell_type": "code",
   "execution_count": 40,
   "id": "5d0d00a7",
   "metadata": {},
   "outputs": [
    {
     "name": "stdout",
     "output_type": "stream",
     "text": [
      "Hello my name is clinton and i am 40 years of old.\n"
     ]
    }
   ],
   "source": [
    "# Modifying Object property\n",
    "\n",
    "class personer:\n",
    "    def __init__(self, name, age):\n",
    "        self.name = name\n",
    "        self.age = age\n",
    "        \n",
    "    def my_function(self):\n",
    "        print(f\"Hello my name is {self.name} and i am {self.age} years of old.\")\n",
    "\n",
    "    \n",
    "p1 = personer(\"clinton\",36 )\n",
    "p1.age =40\n",
    "p1.my_function()\n",
    "\n",
    "# changing age to 40\n",
    "p1.age = 40\n",
    "# deleting the age property we use \n",
    "del p1.age\n",
    "    \n",
    "    \n"
   ]
  },
  {
   "cell_type": "code",
   "execution_count": null,
   "id": "5b602eb4",
   "metadata": {},
   "outputs": [],
   "source": []
  }
 ],
 "metadata": {
  "kernelspec": {
   "display_name": "Python 3 (ipykernel)",
   "language": "python",
   "name": "python3"
  },
  "language_info": {
   "codemirror_mode": {
    "name": "ipython",
    "version": 3
   },
   "file_extension": ".py",
   "mimetype": "text/x-python",
   "name": "python",
   "nbconvert_exporter": "python",
   "pygments_lexer": "ipython3",
   "version": "3.10.9"
  }
 },
 "nbformat": 4,
 "nbformat_minor": 5
}
